{
  "nbformat": 4,
  "nbformat_minor": 0,
  "metadata": {
    "colab": {
      "name": "cl_lab2.ipynb",
      "provenance": [],
      "collapsed_sections": []
    },
    "kernelspec": {
      "name": "python3",
      "display_name": "Python 3"
    },
    "language_info": {
      "name": "python"
    }
  },
  "cells": [
    {
      "cell_type": "code",
      "metadata": {
        "id": "MjvlXKyIXx1t"
      },
      "source": [
        "import csv\n",
        "import re\n",
        "import math \n",
        "import matplotlib.pyplot as plt\n",
        "import collections"
      ],
      "execution_count": 1,
      "outputs": []
    },
    {
      "cell_type": "markdown",
      "metadata": {
        "id": "UoCofaQLNirz"
      },
      "source": [
        "### Вхідні дані"
      ]
    },
    {
      "cell_type": "code",
      "metadata": {
        "id": "gagTfX37NGug"
      },
      "source": [
        "def read_csv(filename):\n",
        "    array = []\n",
        "    rows = [] \n",
        "    with open(filename, 'r') as csvfile: \n",
        "        csvreader = csv.reader(csvfile) \n",
        "        for row in csvreader: \n",
        "            rows.append(row)     \n",
        "    for row in rows:  \n",
        "        result =  ''.join(row) \n",
        "        x = result.split(\";\")\n",
        "        array.append(x)\n",
        "    return array\n",
        "\n",
        "test_10 = read_csv('/content/drive/MyDrive/CL/lab2/test_10.csv')\n",
        "test_20 = read_csv('/content/drive/MyDrive/CL/lab2/test_20.csv')\n",
        "test_30 = read_csv('/content/drive/MyDrive/CL/lab2/test_30.csv')"
      ],
      "execution_count": 2,
      "outputs": []
    },
    {
      "cell_type": "markdown",
      "metadata": {
        "id": "AadzIWI9N5-j"
      },
      "source": [
        "### Обробка вхідних данних"
      ]
    },
    {
      "cell_type": "code",
      "metadata": {
        "id": "dox5LioAX36O"
      },
      "source": [
        "# виділення масиву жартів за класом\n",
        "def class_array(array, class_name):\n",
        "    class_array = []\n",
        "    for joke in array:\n",
        "        index = joke[2].find(class_name)\n",
        "        if(index != -1):\n",
        "            class_array.append(joke)\n",
        "    return class_array\n",
        "\n",
        "# видалення зайвих символів\n",
        "def get_words_line(str, remove_stop_words):\n",
        "    words_str = re.sub(r'[^\\w\\s]','', str).lower();\n",
        "    if remove_stop_words:\n",
        "        # видалення стоп-слів\n",
        "        words_str = re.sub(r'\\b\\w{1,3}\\b', '', words_str)\n",
        "    return words_str\n",
        "\n",
        "# формування масиву слів, які трапляються в масиві жартів\n",
        "def get_words_array(array, remove_stop_words):\n",
        "    words_array = []\n",
        "    for joke in array:\n",
        "        str = get_words_line(joke[1], remove_stop_words);\n",
        "        row = [joke[0], str, joke[2]]\n",
        "        words_array.append(row)\n",
        "    return words_array\n",
        "\n",
        "# підрахунок кількості слів\n",
        "def words_count(array):\n",
        "    count = 0\n",
        "    for joke in array:\n",
        "        count += len(joke[1].split())\n",
        "    return count\n",
        "\n",
        "# пошук унікальних слів та підрахунок їхньої кількості\n",
        "def unique_words(array):\n",
        "    dict = {}\n",
        "    for joke in array:\n",
        "        for key in joke[1].split():\n",
        "            if key in dict:\n",
        "                dict[key] += 1\n",
        "            else:\n",
        "                dict[key] = 1\n",
        "    return dict\n"
      ],
      "execution_count": 3,
      "outputs": []
    },
    {
      "cell_type": "markdown",
      "metadata": {
        "id": "GaoNSVCqQQLC"
      },
      "source": [
        "### Розрахунки"
      ]
    },
    {
      "cell_type": "code",
      "metadata": {
        "id": "MI0Qvw-aN29_"
      },
      "source": [
        "def count_array_value(class_prob, row, dict, k, words_count):\n",
        "    words = row[1].split()\n",
        "    value = 0\n",
        "    for word in words:\n",
        "        if word in dict:\n",
        "            value += value + math.log((dict[word] + 1) / (k + words_count))\n",
        "        else:\n",
        "            value += math.log( 1 / (k + words_count))\n",
        "    return class_prob + value\n",
        "\n",
        "def model(array, debug):  \n",
        "    class1 = class_array(array, 'черные')\n",
        "    class2 = class_array(array, 'блондинки')\n",
        "    words_class1 = get_words_array(class1, False)\n",
        "    words_class2 = get_words_array(class2, False)\n",
        "    unique_class1 = unique_words(words_class1)\n",
        "    unique_class2 = unique_words(words_class2)\n",
        "    class1_prob = math.log(len(class1) / (len(class1) + len(class2)))\n",
        "    class2_prob = math.log(len(class2) / (len(class1) + len(class2)))\n",
        "    k = len(unique_class1) + len(unique_class2)\n",
        "    words_test = get_words_array(read_csv('/content/drive/MyDrive/CL/lab2/test.csv'), False)\n",
        "    \n",
        "    correct = 0\n",
        "    for row in words_test:\n",
        "        if debug==1:\n",
        "          print(row)\n",
        "        class1_value = count_array_value(class1_prob, row, unique_class1, k, words_count(words_class1))\n",
        "        class2_value = count_array_value(class2_prob, row, unique_class2, k, words_count(words_class2))\n",
        "        if debug==1:\n",
        "            print('чорний гумор: ' + str(class1_value) + ' ; про блондинок: ' + str(class2_value))\n",
        "        if class1_value > class2_value:\n",
        "            if 'черные' == row[2]:\n",
        "                correct += 1\n",
        "                if debug==1:\n",
        "                  print('Визначена категорія: чорний гумор. Правильна категорія: чорний гумор')\n",
        "            else:\n",
        "              if debug==1:\n",
        "                  print('Визначена категорія: чорний гумор. Правильна категорія: про блондинок')\n",
        "        else:\n",
        "            if 'блондинки' == row[2]:\n",
        "                correct += 1\n",
        "                if debug==1:\n",
        "                  print('Визначена категорія: про блондинок. Правильна категорія: про блондинок')\n",
        "            else:\n",
        "              if debug==1:\n",
        "                  print('Визначена категорія: про блондинок. Правильна категорія: чорний гумор')\n",
        "                        \n",
        "    print('Правильних результатів: ' + str(correct))\n",
        "    print('Точність: {} % '.format(str(correct/len(words_test)*100)))\n",
        "    return correct/len(words_test)*100\n"
      ],
      "execution_count": 4,
      "outputs": []
    },
    {
      "cell_type": "markdown",
      "metadata": {
        "id": "VBTO-ZxOW3vF"
      },
      "source": [
        "### Результати"
      ]
    },
    {
      "cell_type": "code",
      "metadata": {
        "colab": {
          "base_uri": "https://localhost:8080/"
        },
        "id": "Rk09PgIWVn4n",
        "outputId": "47f5b851-1239-49d8-96e9-e4449c521a06"
      },
      "source": [
        "# загальні результати\n",
        "print(\"Тестова вибірка: 40 анекдотів\")\n",
        "print(\"________________________________\")\n",
        "print(\"Навчання на 20ти анекдотах:\")\n",
        "test_10_pr = model(test_10, 0)\n",
        "print(\"________________________________\")\n",
        "print(\"Навчання на 40а анекдотах:\")\n",
        "test_20_pr = model(test_20, 0)\n",
        "print(\"________________________________\")\n",
        "print(\"Навчання на 60ти анекдотах:\")\n",
        "test_30_pr = model(test_30, 0)"
      ],
      "execution_count": 5,
      "outputs": [
        {
          "output_type": "stream",
          "text": [
            "Тестова вибірка: 40 анекдотів\n",
            "________________________________\n",
            "Навчання на 20ти анекдотах:\n",
            "Правильних результатів: 18\n",
            "Точність: 45.0 % \n",
            "________________________________\n",
            "Навчання на 40а анекдотах:\n",
            "Правильних результатів: 17\n",
            "Точність: 42.5 % \n",
            "________________________________\n",
            "Навчання на 60ти анекдотах:\n",
            "Правильних результатів: 20\n",
            "Точність: 50.0 % \n"
          ],
          "name": "stdout"
        }
      ]
    },
    {
      "cell_type": "code",
      "metadata": {
        "colab": {
          "base_uri": "https://localhost:8080/",
          "height": 294
        },
        "id": "A1_CQeeJeM5P",
        "outputId": "27633fab-83b8-41e2-b7ad-e3357328009b"
      },
      "source": [
        "plt.plot([20, 40, 60], [test_10_pr, test_20_pr, test_30_pr], color = 'r')\n",
        "plt.title('Залежність точності класифікації від розміру навчальної вибірки')\n",
        "plt.xlabel('розмір навчальної вибірки')\n",
        "plt.ylabel('точність визначення категорії')\n",
        "plt.show()"
      ],
      "execution_count": 6,
      "outputs": [
        {
          "output_type": "display_data",
          "data": {
            "image/png": "[encoded data removed]",
            "text/plain": [
              "<Figure size 432x288 with 1 Axes>"
            ]
          },
          "metadata": {
            "tags": [],
            "needs_background": "light"
          }
        }
      ]
    },
    {
      "cell_type": "code",
      "metadata": {
        "colab": {
          "base_uri": "https://localhost:8080/"
        },
        "id": "r5KV1_ZuhVuJ",
        "outputId": "d4a6385c-7705-4405-ba74-7b952932a927"
      },
      "source": [
        "# дебаг\n",
        "print(\"Тестова вибірка: 40 анекдотів\")\n",
        "print(\"________________________________________________________________\")\n",
        "print(\"Навчання на 20ти анекдотах:\")\n",
        "model(test_10, 1)\n",
        "print(\"________________________________________________________________\")\n",
        "print(\"Навчання на 40а анекдотах:\")\n",
        "model(test_20, 1)\n",
        "print(\"________________________________________________________________\")\n",
        "print(\"Навчання на 60ти анекдотах:\")\n",
        "model(test_30, 1)"
      ],
      "execution_count": 7,
      "outputs": [
        {
          "output_type": "stream",
          "text": [
            "Тестова вибірка: 40 анекдотів\n",
            "________________________________________________________________\n",
            "Навчання на 20ти анекдотах:\n",
            "['\\ufeff1', 'фальшивого дрессировщика в цирке быстро раскусили', 'черные']\n",
            "чорний гумор: -47.25854423789262 ; про блондинок: -47.067977744709104\n",
            "Визначена категорія: про блондинок. Правильна категорія: чорний гумор\n",
            "['2', 'блондинка стоит и задумчиво смотрит на эскалатор что она делает  удивлённо спрашивают прохожие ступеньки считает', 'блондинки']\n",
            "чорний гумор: -414.9947641608201 ; про блондинок: -215.95548419448434\n",
            "Визначена категорія: про блондинок. Правильна категорія: про блондинок\n",
            "['3', 'доктор на что жалуетесь у меня небольшое ранение не врите я вас насквозь вижу', 'черные']\n",
            "чорний гумор: -248.3350079939154 ; про блондинок: -951.0307021718919\n",
            "Визначена категорія: чорний гумор. Правильна категорія: чорний гумор\n",
            "['4', 'разговаривают две блондинки а че такое судопроизводство ты че ваще тупая это когда корабли делают', 'блондинки']\n",
            "чорний гумор: -304.6888553798248 ; про блондинок: -455.65810421378376\n",
            "Визначена категорія: чорний гумор. Правильна категорія: про блондинок\n",
            "['5', 'объявление продам абсолютно новый гробвсего несколько царапин да и то с внутренней стороны крышки', 'черные']\n",
            "чорний гумор: -130.61438843224917 ; про блондинок: -239.49877180690515\n",
            "Визначена категорія: чорний гумор. Правильна категорія: чорний гумор\n",
            "['6', 'блондинка ну ты мне купишь это ожерелье или нет это что ультиматум нет жемчуг', 'блондинки']\n",
            "чорний гумор: -2012.630684678132 ; про блондинок: -1780.6545949714487\n",
            "Визначена категорія: про блондинок. Правильна категорія: про блондинок\n",
            "['7', 'алексей вылетая из чужого окна с простыней в руках был настолько похож на бэтмэна что спасатели убрали натянутый тент', 'черные']\n",
            "чорний гумор: -591.6970595835601 ; про блондинок: -921.8266250199936\n",
            "Визначена категорія: чорний гумор. Правильна категорія: чорний гумор\n",
            "['8', 'брюнетки созданы для стихов блондинки  для анекдотов', 'блондинки']\n",
            "чорний гумор: -42.65087717170593 ; про блондинок: -66.21915903740671\n",
            "Визначена категорія: чорний гумор. Правильна категорія: про блондинок\n",
            "['9', 'перед тем как помыть окна на своем 12м этаже всегда оставляю записку это не суицид просто не повезло', 'черные']\n",
            "чорний гумор: -1050.504188005464 ; про блондинок: -1053.9870789471975\n",
            "Визначена категорія: чорний гумор. Правильна категорія: чорний гумор\n",
            "['10', 'разговаривают две блондинки возьми зонтик по радио сказали что после обеда будет дождь а я сегодня обедать не буду у меня разгрузочный день', 'блондинки']\n",
            "чорний гумор: -7062.632610634658 ; про блондинок: -8421.370031560462\n",
            "Визначена категорія: чорний гумор. Правильна категорія: про блондинок\n",
            "['11', 'пошел сдавать кровь но они задавали слишком много вопросов чья кровь где взял почему в ведре', 'черные']\n",
            "чорний гумор: -402.7373467929272 ; про блондинок: -933.7679511747061\n",
            "Визначена категорія: чорний гумор. Правильна категорія: чорний гумор\n",
            "['12', 'блондинка поместила на заставку рабочего стола фото своего парня и через полчаса напрочь поссорилась с монитором', 'блондинки']\n",
            "чорний гумор: -170.37489384605897 ; про блондинок: -505.5323838062037\n",
            "Визначена категорія: чорний гумор. Правильна категорія: про блондинок\n",
            "['13', 'все что нас не убивает делает нас льготниками', 'черные']\n",
            "чорний гумор: -201.00224852658366 ; про блондинок: -75.51931634710391\n",
            "Визначена категорія: про блондинок. Правильна категорія: чорний гумор\n",
            "['14', ' я попыталась настроить дома телевизор  рассказывает блондинка приятельнице получилось ну как тебе сказать кажется я его настроила против себя', 'блондинки']\n",
            "чорний гумор: -280.32989272228883 ; про блондинок: -1484.8153221137136\n",
            "Визначена категорія: чорний гумор. Правильна категорія: про блондинок\n",
            "['15', 'мазохиста андрея укусил комар мелочь а приятно', 'черные']\n",
            "чорний гумор: -71.52207201957067 ; про блондинок: -72.6814081587435\n",
            "Визначена категорія: чорний гумор. Правильна категорія: чорний гумор\n",
            "['16', 'если у блондинки горят глаза значит тараканы в ее голове чтото празднуют', 'блондинки']\n",
            "чорний гумор: -122.98281821554181 ; про блондинок: -456.82587353774545\n",
            "Визначена категорія: чорний гумор. Правильна категорія: про блондинок\n",
            "['17', 'если женщину спрашивают ну и что ты в нем нашла совсем не обязательно что она  невеста возможно она работник таможни или патологоанатом', 'черные']\n",
            "чорний гумор: -12079.21026411209 ; про блондинок: -3008.903665524371\n",
            "Визначена категорія: про блондинок. Правильна категорія: чорний гумор\n",
            "['18', 'одна блондинка спрашивает у другой как считаешь черная полоса в моей жизни когданибудь закончится разумеется ты же не вечная', 'блондинки']\n",
            "чорний гумор: -2145.3347398484693 ; про блондинок: -5898.627466881488\n",
            "Визначена категорія: чорний гумор. Правильна категорія: про блондинок\n",
            "['19', 'все что нас не убивает потом об этом очень сильно пожалеет', 'черные']\n",
            "чорний гумор: -125.17011715307807 ; про блондинок: -93.68966838678978\n",
            "Визначена категорія: про блондинок. Правильна категорія: чорний гумор\n",
            "['20', 'встречаются две блондинки я беременна с чего ты взяла доктор сказал а кто отец ой не знаю доктор не сказал', 'блондинки']\n",
            "чорний гумор: -3460.6741360778487 ; про блондинок: -6641.608687995951\n",
            "Визначена категорія: чорний гумор. Правильна категорія: про блондинок\n",
            "['21', 'реально безвыходное положение  это когда тебя обвели мелом', 'черные']\n",
            "чорний гумор: -65.52811059226411 ; про блондинок: -66.2191590374067\n",
            "Визначена категорія: чорний гумор. Правильна категорія: чорний гумор\n",
            "['22', 'мужчина спрашивает у блондинки на остановке скажите а вы замужемта в ответ конечно да а сколько времени полшестого', 'блондинки']\n",
            "чорний гумор: -1494.5473122443225 ; про блондинок: -12076.52383062921\n",
            "Визначена категорія: чорний гумор. Правильна категорія: про блондинок\n",
            "['23', 'однажды я подружился с камнем а он упал в реку и утонул жаль ведь я к нему привязался', 'черные']\n",
            "чорний гумор: -1218.323916459648 ; про блондинок: -2269.1156810751463\n",
            "Визначена категорія: чорний гумор. Правильна категорія: чорний гумор\n",
            "['24', 'блондинке звонят родители и спрашивают доченька почему ты нас своих родителей не пригласила на свою свадьбу а вы меня на свою тоже не приглашали', 'блондинки']\n",
            "чорний гумор: -30445.384514068544 ; про блондинок: -16555.29221944254\n",
            "Визначена категорія: про блондинок. Правильна категорія: про блондинок\n",
            "['25', ' холодные руки вообще не возбуждают кстати как и холодные ноги вообще живые люди рулят', 'черные']\n",
            "чорний гумор: -507.9286932831549 ; про блондинок: -266.89232011515213\n",
            "Визначена категорія: про блондинок. Правильна категорія: чорний гумор\n",
            "['26', 'одна блондинка  другой раньше я была молода и ожидала принца на белом коне а сейчас уже согласна и на принца на черном лимузине', 'блондинки']\n",
            "чорний гумор: -3662.7819368043656 ; про блондинок: -7666.731899638026\n",
            "Визначена категорія: чорний гумор. Правильна категорія: про блондинок\n",
            "['27', 'жилибыли два мазохиста и умирали они долго и счастливо', 'черные']\n",
            "чорний гумор: -126.72256813413856 ; про блондинок: -129.78351238823\n",
            "Визначена категорія: чорний гумор. Правильна категорія: чорний гумор\n",
            "['28', 'изза недостатка денег блондинки резко прибавляют в весе  не хватает денег на покупку журналов с новыми диетами', 'блондинки']\n",
            "чорний гумор: -398.41985867939076 ; про блондинок: -1056.0731128951445\n",
            "Визначена категорія: чорний гумор. Правильна категорія: про блондинок\n",
            "['29', 'я говорил своим детям не играть в русскую рулетку но как обычно в одно ухо влетело в другое вылетело', 'черные']\n",
            "чорний гумор: -2282.1485387407674 ; про блондинок: -1178.0467881999198\n",
            "Визначена категорія: про блондинок. Правильна категорія: чорний гумор\n",
            "['30', 'блондинка говорит подруге с мужиками надо в гаи знакомиться они там все без баб и с машинами', 'блондинки']\n",
            "чорний гумор: -253.71498968344739 ; про блондинок: -604.2260764283751\n",
            "Визначена категорія: чорний гумор. Правильна категорія: про блондинок\n",
            "['31', ' у меня для вас две новости с какой начать с хорошей вы стали рекордсменом по прыжкам со скалы а плохая меня зовут апостол петр', 'черные']\n",
            "чорний гумор: -377.4273227237199 ; про блондинок: -3337.431704313403\n",
            "Визначена категорія: чорний гумор. Правильна категорія: чорний гумор\n",
            "['32', 'беседа двух блондинок ты знаешь твой муж  типичный холерик не может быть а внешне выглядит неплохо и вообще я думала что с холерой у нас покончено', 'блондинки']\n",
            "чорний гумор: -6367.060625418988 ; про блондинок: -20910.39683211674\n",
            "Визначена категорія: чорний гумор. Правильна категорія: про блондинок\n",
            "['33', 'семен понял что заблудился когда дорогу ему начал показывать апостол петр', 'черные']\n",
            "чорний гумор: -77.51603344687726 ; про блондинок: -77.82190144009795\n",
            "Визначена категорія: чорний гумор. Правильна категорія: чорний гумор\n",
            "['34', 'блондинка говорит подруге а я выхожу замуж за капитана а почему ты думаешь что он капитан как же  у него на погонах буква к', 'блондинки']\n",
            "чорний гумор: -78657.97010121252 ; про блондинок: -102670.51117182428\n",
            "Визначена категорія: чорний гумор. Правильна категорія: про блондинок\n",
            "['35', ' а вдоль дорог мертвые с косами стоят а вы точно ландшафтный дизайнер', 'черные']\n",
            "чорний гумор: -197.20301479641472 ; про блондинок: -292.72967502548386\n",
            "Визначена категорія: чорний гумор. Правильна категорія: чорний гумор\n",
            "['36', 'блондинка уже седьмой раз вышла замуж звонит подруге светка я больше так не могу хочу чтобы он у меня был как роберт мугабе или уго чавес или хотя бы как батька лукашенко короче мне нужен пожизненный муж', 'блондинки']\n",
            "чорний гумор: -2920.6962966653646 ; про блондинок: -8537.740284516773\n",
            "Визначена категорія: чорний гумор. Правильна категорія: про блондинок\n",
            "['37', ' да не расстраивайся посуда бьется к счастью это была колба с сибирской язвой', 'черные']\n",
            "чорний гумор: -194.75424719324263 ; про блондинок: -383.1759701158051\n",
            "Визначена категорія: чорний гумор. Правильна категорія: чорний гумор\n",
            "['38', 'разговаривают две блондинки мужу не понравился мой новый шарфик так обменяй его это идея а где меняют мужей', 'блондинки']\n",
            "чорний гумор: -422.52478143089223 ; про блондинок: -1133.2199923396904\n",
            "Визначена категорія: чорний гумор. Правильна категорія: про блондинок\n",
            "['39', 'пациент отходит после наркоза и спрашивает у врача доктор вам удалось сохранить мою ногу конечно  вон она стоит в банке с формалином', 'черные']\n",
            "чорний гумор: -1597.5671852340936 ; про блондинок: -2280.399573879565\n",
            "Визначена категорія: чорний гумор. Правильна категорія: чорний гумор\n",
            "['40', 'если в голову блондинки подкинуть мысль  она там соскучится', 'блондинки']\n",
            "чорний гумор: -98.71929043386376 ; про блондинок: -77.45803927149312\n",
            "Визначена категорія: про блондинок. Правильна категорія: про блондинок\n",
            "Правильних результатів: 18\n",
            "Точність: 45.0 % \n",
            "________________________________________________________________\n",
            "Навчання на 40а анекдотах:\n",
            "['\\ufeff1', 'фальшивого дрессировщика в цирке быстро раскусили', 'черные']\n",
            "чорний гумор: -52.68084258872107 ; про блондинок: -52.46623658037883\n",
            "Визначена категорія: про блондинок. Правильна категорія: чорний гумор\n",
            "['2', 'блондинка стоит и задумчиво смотрит на эскалатор что она делает  удивлённо спрашивают прохожие ступеньки считает', 'блондинки']\n",
            "чорний гумор: -462.7213701244436 ; про блондинок: -683.7265116307847\n",
            "Визначена категорія: чорний гумор. Правильна категорія: про блондинок\n",
            "['3', 'доктор на что жалуетесь у меня небольшое ранение не врите я вас насквозь вижу', 'черные']\n",
            "чорний гумор: -493.86160332090725 ; про блондинок: -1831.3746785307628\n",
            "Визначена категорія: чорний гумор. Правильна категорія: чорний гумор\n",
            "['4', 'разговаривают две блондинки а че такое судопроизводство ты че ваще тупая это когда корабли делают', 'блондинки']\n",
            "чорний гумор: -546.0181400443604 ; про блондинок: -3055.97313305808\n",
            "Визначена категорія: чорний гумор. Правильна категорія: про блондинок\n",
            "['5', 'объявление продам абсолютно новый гробвсего несколько царапин да и то с внутренней стороны крышки', 'черные']\n",
            "чорний гумор: -451.0578883281119 ; про блондинок: -456.4252775874788\n",
            "Визначена категорія: чорний гумор. Правильна категорія: чорний гумор\n",
            "['6', 'блондинка ну ты мне купишь это ожерелье или нет это что ультиматум нет жемчуг', 'блондинки']\n",
            "чорний гумор: -2240.2131335750305 ; про блондинок: -2917.974754896091\n",
            "Визначена категорія: чорний гумор. Правильна категорія: про блондинок\n",
            "['7', 'алексей вылетая из чужого окна с простыней в руках был настолько похож на бэтмэна что спасатели убрали натянутый тент', 'черные']\n",
            "чорний гумор: -1029.4226659447245 ; про блондинок: -1929.1735970910727\n",
            "Визначена категорія: чорний гумор. Правильна категорія: чорний гумор\n",
            "['8', 'брюнетки созданы для стихов блондинки  для анекдотов', 'блондинки']\n",
            "чорний гумор: -47.885052043124325 ; про блондинок: -73.81295466259839\n",
            "Визначена категорія: чорний гумор. Правильна категорія: про блондинок\n",
            "['9', 'перед тем как помыть окна на своем 12м этаже всегда оставляю записку это не суицид просто не повезло', 'черные']\n",
            "чорний гумор: -1168.1569362538573 ; про блондинок: -1182.5221806534207\n",
            "Визначена категорія: чорний гумор. Правильна категорія: чорний гумор\n",
            "['10', 'разговаривают две блондинки возьми зонтик по радио сказали что после обеда будет дождь а я сегодня обедать не буду у меня разгрузочный день', 'блондинки']\n",
            "чорний гумор: -24078.253210874525 ; про блондинок: -18092.126795238786\n",
            "Визначена категорія: про блондинок. Правильна категорія: про блондинок\n",
            "['11', 'пошел сдавать кровь но они задавали слишком много вопросов чья кровь где взял почему в ведре', 'черные']\n",
            "чорний гумор: -451.402140752052 ; про блондинок: -2105.3931255886914\n",
            "Визначена категорія: чорний гумор. Правильна категорія: чорний гумор\n",
            "['12', 'блондинка поместила на заставку рабочего стола фото своего парня и через полчаса напрочь поссорилась с монитором', 'блондинки']\n",
            "чорний гумор: -366.4923170647905 ; про блондинок: -557.9294802157158\n",
            "Визначена категорія: чорний гумор. Правильна категорія: про блондинок\n",
            "['13', 'все что нас не убивает делает нас льготниками', 'черные']\n",
            "чорний гумор: -218.89865479712307 ; про блондинок: -82.7102863411842\n",
            "Визначена категорія: про блондинок. Правильна категорія: чорний гумор\n",
            "['14', ' я попыталась настроить дома телевизор  рассказывает блондинка приятельнице получилось ну как тебе сказать кажется я его настроила против себя', 'блондинки']\n",
            "чорний гумор: -1093.860283484936 ; про блондинок: -1659.277032759712\n",
            "Визначена категорія: чорний гумор. Правильна категорія: про блондинок\n",
            "['15', 'мазохиста андрея укусил комар мелочь а приятно', 'черные']\n",
            "чорний гумор: -79.80179604715654 ; про блондинок: -80.80541866950747\n",
            "Визначена категорія: чорний гумор. Правильна категорія: чорний гумор\n",
            "['16', 'если у блондинки горят глаза значит тараканы в ее голове чтото празднуют', 'блондинки']\n",
            "чорний гумор: -136.73943268074166 ; про блондинок: -508.9179229369557\n",
            "Визначена категорія: чорний гумор. Правильна категорія: про блондинок\n",
            "['17', 'если женщину спрашивают ну и что ты в нем нашла совсем не обязательно что она  невеста возможно она работник таможни или патологоанатом', 'черные']\n",
            "чорний гумор: -13418.676035529132 ; про блондинок: -13288.524198005447\n",
            "Визначена категорія: про блондинок. Правильна категорія: чорний гумор\n",
            "['18', 'одна блондинка спрашивает у другой как считаешь черная полоса в моей жизни когданибудь закончится разумеется ты же не вечная', 'блондинки']\n",
            "чорний гумор: -2386.998198445303 ; про блондинок: -6105.314668999258\n",
            "Визначена категорія: чорний гумор. Правильна категорія: про блондинок\n",
            "['19', 'все что нас не убивает потом об этом очень сильно пожалеет', 'черные']\n",
            "чорний гумор: -232.38205618642718 ; про блондинок: -103.14071369152961\n",
            "Визначена категорія: про блондинок. Правильна категорія: чорний гумор\n",
            "['20', 'встречаются две блондинки я беременна с чего ты взяла доктор сказал а кто отец ой не знаю доктор не сказал', 'блондинки']\n",
            "чорний гумор: -32718.906676916387 ; про блондинок: -26943.53442199046\n",
            "Визначена категорія: про блондинок. Правильна категорія: про блондинок\n",
            "['21', 'реально безвыходное положение  это когда тебя обвели мелом', 'черные']\n",
            "чорний гумор: -73.75324253306444 ; про блондинок: -119.80997537983268\n",
            "Визначена категорія: чорний гумор. Правильна категорія: чорний гумор\n",
            "['22', 'мужчина спрашивает у блондинки на остановке скажите а вы замужемта в ответ конечно да а сколько времени полшестого', 'блондинки']\n",
            "чорний гумор: -11959.659422677969 ; про блондинок: -52728.03360985474\n",
            "Визначена категорія: чорний гумор. Правильна категорія: про блондинок\n",
            "['23', 'однажды я подружился с камнем а он упал в реку и утонул жаль ведь я к нему привязался', 'черные']\n",
            "чорний гумор: -4435.876604420148 ; про блондинок: -4609.6613728664925\n",
            "Визначена категорія: чорний гумор. Правильна категорія: чорний гумор\n",
            "['24', 'блондинке звонят родители и спрашивают доченька почему ты нас своих родителей не пригласила на свою свадьбу а вы меня на свою тоже не приглашали', 'блондинки']\n",
            "чорний гумор: -34168.15768072962 ; про блондинок: -145662.1343718907\n",
            "Визначена категорія: чорний гумор. Правильна категорія: про блондинок\n",
            "['25', ' холодные руки вообще не возбуждают кстати как и холодные ноги вообще живые люди рулят', 'черные']\n",
            "чорний гумор: -1498.534669911228 ; про блондинок: -298.6119735546769\n",
            "Визначена категорія: про блондинок. Правильна категорія: чорний гумор\n",
            "['26', 'одна блондинка  другой раньше я была молода и ожидала принца на белом коне а сейчас уже согласна и на принца на черном лимузине', 'блондинки']\n",
            "чорний гумор: -16001.202310845545 ; про блондинок: -16029.552233256914\n",
            "Визначена категорія: чорний гумор. Правильна категорія: про блондинок\n",
            "['27', 'жилибыли два мазохиста и умирали они долго и счастливо', 'черные']\n",
            "чорний гумор: -166.29702124029146 ; про блондинок: -248.36271517853865\n",
            "Визначена категорія: чорний гумор. Правильна категорія: чорний гумор\n",
            "['28', 'изза недостатка денег блондинки резко прибавляют в весе  не хватает денег на покупку журналов с новыми диетами', 'блондинки']\n",
            "чорний гумор: -869.0711370620679 ; про блондинок: -1173.5143320450277\n",
            "Визначена категорія: чорний гумор. Правильна категорія: про блондинок\n",
            "['29', 'я говорил своим детям не играть в русскую рулетку но как обычно в одно ухо влетело в другое вылетело', 'черные']\n",
            "чорний гумор: -4755.996005078369 ; про блондинок: -2446.785795366946\n",
            "Визначена категорія: про блондинок. Правильна категорія: чорний гумор\n",
            "['30', 'блондинка говорит подруге с мужиками надо в гаи знакомиться они там все без баб и с машинами', 'блондинки']\n",
            "чорний гумор: -1467.9167701536592 ; про блондинок: -2437.7690931863667\n",
            "Визначена категорія: чорний гумор. Правильна категорія: про блондинок\n",
            "['31', ' у меня для вас две новости с какой начать с хорошей вы стали рекордсменом по прыжкам со скалы а плохая меня зовут апостол петр', 'черные']\n",
            "чорний гумор: -1820.308404738683 ; про блондинок: -8483.201822285459\n",
            "Визначена категорія: чорний гумор. Правильна категорія: чорний гумор\n",
            "['32', 'беседа двух блондинок ты знаешь твой муж  типичный холерик не может быть а внешне выглядит неплохо и вообще я думала что с холерой у нас покончено', 'блондинки']\n",
            "чорний гумор: -103409.93845564041 ; про блондинок: -34573.844161312576\n",
            "Визначена категорія: про блондинок. Правильна категорія: про блондинок\n",
            "['33', 'семен понял что заблудился когда дорогу ему начал показывать апостол петр', 'черные']\n",
            "чорний гумор: -86.25581466935681 ; про блондинок: -123.97660614998318\n",
            "Визначена категорія: чорний гумор. Правильна категорія: чорний гумор\n",
            "['34', 'блондинка говорит подруге а я выхожу замуж за капитана а почему ты думаешь что он капитан как же  у него на погонах буква к', 'блондинки']\n",
            "чорний гумор: -565273.4265719033 ; про блондинок: -249908.76821398924\n",
            "Визначена категорія: про блондинок. Правильна категорія: про блондинок\n",
            "['35', ' а вдоль дорог мертвые с косами стоят а вы точно ландшафтный дизайнер', 'черные']\n",
            "чорний гумор: -315.98938620997427 ; про блондинок: -320.5415423705078\n",
            "Визначена категорія: чорний гумор. Правильна категорія: чорний гумор\n",
            "['36', 'блондинка уже седьмой раз вышла замуж звонит подруге светка я больше так не могу хочу чтобы он у меня был как роберт мугабе или уго чавес или хотя бы как батька лукашенко короче мне нужен пожизненный муж', 'блондинки']\n",
            "чорний гумор: -92819.69884144544 ; про блондинок: -571324.5386026999\n",
            "Визначена категорія: чорний гумор. Правильна категорія: про блондинок\n",
            "['37', ' да не расстраивайся посуда бьется к счастью это была колба с сибирской язвой', 'черные']\n",
            "чорний гумор: -401.799991622919 ; про блондинок: -413.56966568720367\n",
            "Визначена категорія: чорний гумор. Правильна категорія: чорний гумор\n",
            "['38', 'разговаривают две блондинки мужу не понравился мой новый шарфик так обменяй его это идея а где меняют мужей', 'блондинки']\n",
            "чорний гумор: -810.7028034974883 ; про блондинок: -2195.25935945691\n",
            "Визначена категорія: чорний гумор. Правильна категорія: про блондинок\n",
            "['39', 'пациент отходит после наркоза и спрашивает у врача доктор вам удалось сохранить мою ногу конечно  вон она стоит в банке с формалином', 'черные']\n",
            "чорний гумор: -13141.45536719761 ; про блондинок: -4992.887836374711\n",
            "Визначена категорія: про блондинок. Правильна категорія: чорний гумор\n",
            "['40', 'если в голову блондинки подкинуть мысль  она там соскучится', 'блондинки']\n",
            "чорний гумор: -205.75355705530825 ; про блондинок: -284.1924545085977\n",
            "Визначена категорія: чорний гумор. Правильна категорія: про блондинок\n",
            "Правильних результатів: 17\n",
            "Точність: 42.5 % \n",
            "________________________________________________________________\n",
            "Навчання на 60ти анекдотах:\n",
            "['\\ufeff1', 'фальшивого дрессировщика в цирке быстро раскусили', 'черные']\n",
            "чорний гумор: -55.433700485077296 ; про блондинок: -55.39136847679476\n",
            "Визначена категорія: про блондинок. Правильна категорія: чорний гумор\n",
            "['2', 'блондинка стоит и задумчиво смотрит на эскалатор что она делает  удивлённо спрашивают прохожие ступеньки считает', 'блондинки']\n",
            "чорний гумор: -482.62429013961975 ; про блондинок: -814.2316015353956\n",
            "Визначена категорія: чорний гумор. Правильна категорія: про блондинок\n",
            "['3', 'доктор на что жалуетесь у меня небольшое ранение не врите я вас насквозь вижу', 'черные']\n",
            "чорний гумор: -865.7015142271149 ; про блондинок: -1901.5296475994987\n",
            "Визначена категорія: чорний гумор. Правильна категорія: чорний гумор\n",
            "['4', 'разговаривают две блондинки а че такое судопроизводство ты че ваще тупая это когда корабли делают', 'блондинки']\n",
            "чорний гумор: -572.3475375387125 ; про блондинок: -3234.7784243676642\n",
            "Визначена категорія: чорний гумор. Правильна категорія: про блондинок\n",
            "['5', 'объявление продам абсолютно новый гробвсего несколько царапин да и то с внутренней стороны крышки', 'черные']\n",
            "чорний гумор: -474.9192528112057 ; про блондинок: -918.4722956092251\n",
            "Визначена категорія: чорний гумор. Правильна категорія: чорний гумор\n",
            "['6', 'блондинка ну ты мне купишь это ожерелье или нет это что ультиматум нет жемчуг', 'блондинки']\n",
            "чорний гумор: -3764.2132498589003 ; про блондинок: -2999.3876792338174\n",
            "Визначена категорія: про блондинок. Правильна категорія: про блондинок\n",
            "['7', 'алексей вылетая из чужого окна с простыней в руках был настолько похож на бэтмэна что спасатели убрали натянутый тент', 'черные']\n",
            "чорний гумор: -1083.6621279935719 ; про блондинок: -2010.4918354855201\n",
            "Визначена категорія: чорний гумор. Правильна категорія: чорний гумор\n",
            "['8', 'брюнетки созданы для стихов блондинки  для анекдотов', 'блондинки']\n",
            "чорний гумор: -50.41064267098248 ; про блондинок: -77.85295966190482\n",
            "Визначена категорія: чорний гумор. Правильна категорія: про блондинок\n",
            "['9', 'перед тем как помыть окна на своем 12м этаже всегда оставляю записку это не суицид просто не повезло', 'черные']\n",
            "чорний гумор: -1221.971446483255 ; про блондинок: -1234.5797723281216\n",
            "Визначена категорія: чорний гумор. Правильна категорія: чорний гумор\n",
            "['10', 'разговаривают две блондинки возьми зонтик по радио сказали что после обеда будет дождь а я сегодня обедать не буду у меня разгрузочный день', 'блондинки']\n",
            "чорний гумор: -101245.72713387506 ; про блондинок: -36054.31613988761\n",
            "Визначена категорія: про блондинок. Правильна категорія: про блондинок\n",
            "['11', 'пошел сдавать кровь но они задавали слишком много вопросов чья кровь где взял почему в ведре', 'черные']\n",
            "чорний гумор: -474.65219002595694 ; про блондинок: -2224.3683221397314\n",
            "Визначена категорія: чорний гумор. Правильна категорія: чорний гумор\n",
            "['12', 'блондинка поместила на заставку рабочего стола фото своего парня и через полчаса напрочь поссорилась с монитором', 'блондинки']\n",
            "чорний гумор: -626.9585566058447 ; про блондинок: -581.7297052482912\n",
            "Визначена категорія: про блондинок. Правильна категорія: про блондинок\n",
            "['13', 'все что нас не убивает делает нас льготниками', 'черные']\n",
            "чорний гумор: -209.85018330768958 ; про блондинок: -217.17083378356824\n",
            "Визначена категорія: чорний гумор. Правильна категорія: чорний гумор\n",
            "['14', ' я попыталась настроить дома телевизор  рассказывает блондинка приятельнице получилось ну как тебе сказать кажется я его настроила против себя', 'блондинки']\n",
            "чорний гумор: -2267.8395728531127 ; про блондинок: -1743.625688440504\n",
            "Визначена категорія: про блондинок. Правильна категорія: про блондинок\n",
            "['15', 'мазохиста андрея укусил комар мелочь а приятно', 'черные']\n",
            "чорний гумор: -83.72591487251952 ; про блондинок: -84.68771404800246\n",
            "Визначена категорія: чорний гумор. Правильна категорія: чорний гумор\n",
            "['16', 'если у блондинки горят глаза значит тараканы в ее голове чтото празднуют', 'блондинки']\n",
            "чорний гумор: -143.8743718120371 ; про блондинок: -1024.2676818714199\n",
            "Визначена категорія: чорний гумор. Правильна категорія: про блондинок\n",
            "['17', 'если женщину спрашивают ну и что ты в нем нашла совсем не обязательно что она  невеста возможно она работник таможни или патологоанатом', 'черные']\n",
            "чорний гумор: -28029.538942976986 ; про блондинок: -13824.641614596827\n",
            "Визначена категорія: про блондинок. Правильна категорія: чорний гумор\n",
            "['18', 'одна блондинка спрашивает у другой как считаешь черная полоса в моей жизни когданибудь закончится разумеется ты же не вечная', 'блондинки']\n",
            "чорний гумор: -2511.9068690331924 ; про блондинок: -11728.63790988195\n",
            "Визначена категорія: чорний гумор. Правильна категорія: про блондинок\n",
            "['19', 'все что нас не убивает потом об этом очень сильно пожалеет', 'черные']\n",
            "чорний гумор: -432.51907096580857 ; про блондинок: -260.31940976378655\n",
            "Визначена категорія: про блондинок. Правильна категорія: чорний гумор\n",
            "['20', 'встречаются две блондинки я беременна с чего ты взяла доктор сказал а кто отец ой не знаю доктор не сказал', 'блондинки']\n",
            "чорний гумор: -68767.03005300058 ; про блондинок: -223966.39087785527\n",
            "Визначена категорія: чорний гумор. Правильна категорія: про блондинок\n",
            "['21', 'реально безвыходное положение  это когда тебя обвели мелом', 'черные']\n",
            "чорний гумор: -77.4343457329612 ; про блондинок: -230.38569608560107\n",
            "Визначена категорія: чорний гумор. Правильна категорія: чорний гумор\n",
            "['22', 'мужчина спрашивает у блондинки на остановке скажите а вы замужемта в ответ конечно да а сколько времени полшестого', 'блондинки']\n",
            "чорний гумор: -12519.139604366519 ; про блондинок: -55342.09640274775\n",
            "Визначена категорія: чорний гумор. Правильна категорія: про блондинок\n",
            "['23', 'однажды я подружился с камнем а он упал в реку и утонул жаль ведь я к нему привязался', 'черные']\n",
            "чорний гумор: -9325.991575482245 ; про блондинок: -9515.916532632982\n",
            "Визначена категорія: чорний гумор. Правильна категорія: чорний гумор\n",
            "['24', 'блондинке звонят родители и спрашивают доченька почему ты нас своих родителей не пригласила на свою свадьбу а вы меня на свою тоже не приглашали', 'блондинки']\n",
            "чорний гумор: -71641.50738801903 ; про блондинок: -288920.07404715096\n",
            "Визначена категорія: чорний гумор. Правильна категорія: про блондинок\n",
            "['25', ' холодные руки вообще не возбуждают кстати как и холодные ноги вообще живые люди рулят', 'черные']\n",
            "чорний гумор: -3692.5853270575467 ; про блондинок: -310.7430829201835\n",
            "Визначена категорія: про блондинок. Правильна категорія: чорний гумор\n",
            "['26', 'одна блондинка  другой раньше я была молода и ожидала принца на белом коне а сейчас уже согласна и на принца на черном лимузине', 'блондинки']\n",
            "чорний гумор: -16838.138340700392 ; про блондинок: -31775.337105481274\n",
            "Визначена категорія: чорний гумор. Правильна категорія: про блондинок\n",
            "['27', 'жилибыли два мазохиста и умирали они долго и счастливо', 'черные']\n",
            "чорний гумор: -174.66836971961527 ; про блондинок: -261.5950444741414\n",
            "Визначена категорія: чорний гумор. Правильна категорія: чорний гумор\n",
            "['28', 'изза недостатка денег блондинки резко прибавляют в весе  не хватает денег на покупку журналов с новыми диетами', 'блондинки']\n",
            "чорний гумор: -913.4520851994494 ; про блондинок: -1234.2417531075453\n",
            "Визначена категорія: чорний гумор. Правильна категорія: про блондинок\n",
            "['29', 'я говорил своим детям не играть в русскую рулетку но как обычно в одно ухо влетело в другое вылетело', 'черные']\n",
            "чорний гумор: -4986.410367481978 ; про блондинок: -2553.4613133302682\n",
            "Визначена категорія: про блондинок. Правильна категорія: чорний гумор\n",
            "['30', 'блондинка говорит подруге с мужиками надо в гаи знакомиться они там все без баб и с машинами', 'блондинки']\n",
            "чорний гумор: -2984.119014362909 ; про блондинок: -6503.505777696395\n",
            "Визначена категорія: чорний гумор. Правильна категорія: про блондинок\n",
            "['31', ' у меня для вас две новости с какой начать с хорошей вы стали рекордсменом по прыжкам со скалы а плохая меня зовут апостол петр', 'черные']\n",
            "чорний гумор: -4089.2946785153304 ; про блондинок: -8578.121199732255\n",
            "Визначена категорія: чорний гумор. Правильна категорія: чорний гумор\n",
            "['32', 'беседа двух блондинок ты знаешь твой муж  типичный холерик не может быть а внешне выглядит неплохо и вообще я думала что с холерой у нас покончено', 'блондинки']\n",
            "чорний гумор: -108734.04825743852 ; про блондинок: -72863.86791383618\n",
            "Визначена категорія: про блондинок. Правильна категорія: про блондинок\n",
            "['33', 'семен понял что заблудился когда дорогу ему начал показывать апостол петр', 'черные']\n",
            "чорний гумор: -90.46068944816886 ; про блондинок: -130.64569272358327\n",
            "Визначена категорія: чорний гумор. Правильна категорія: чорний гумор\n",
            "['34', 'блондинка говорит подруге а я выхожу замуж за капитана а почему ты думаешь что он капитан как же  у него на погонах буква к', 'блондинки']\n",
            "чорний гумор: -1142147.8634779407 ; про блондинок: -356846.42821889854\n",
            "Визначена категорія: про блондинок. Правильна категорія: про блондинок\n",
            "['35', ' а вдоль дорог мертвые с косами стоят а вы точно ландшафтный дизайнер', 'черные']\n",
            "чорний гумор: -329.97466818502227 ; про блондинок: -329.74767515890363\n",
            "Визначена категорія: про блондинок. Правильна категорія: чорний гумор\n",
            "['36', 'блондинка уже седьмой раз вышла замуж звонит подруге светка я больше так не могу хочу чтобы он у меня был как роберт мугабе или уго чавес или хотя бы как батька лукашенко короче мне нужен пожизненный муж', 'блондинки']\n",
            "чорний гумор: -775325.1489981753 ; про блондинок: -2381117.1913646758\n",
            "Визначена категорія: чорний гумор. Правильна категорія: про блондинок\n",
            "['37', ' да не расстраивайся посуда бьется к счастью это была колба с сибирской язвой', 'черные']\n",
            "чорний гумор: -420.13662071962796 ; про блондинок: -430.1524965912511\n",
            "Визначена категорія: чорний гумор. Правильна категорія: чорний гумор\n",
            "['38', 'разговаривают две блондинки мужу не понравился мой новый шарфик так обменяй его это идея а где меняют мужей', 'блондинки']\n",
            "чорний гумор: -1616.6698714035615 ; про блондинок: -4014.6120340586713\n",
            "Визначена категорія: чорний гумор. Правильна категорія: про блондинок\n",
            "['39', 'пациент отходит после наркоза и спрашивает у врача доктор вам удалось сохранить мою ногу конечно  вон она стоит в банке с формалином', 'черные']\n",
            "чорний гумор: -13818.593018478903 ; про блондинок: -27678.092988314067\n",
            "Визначена категорія: чорний гумор. Правильна категорія: чорний гумор\n",
            "['40', 'если в голову блондинки подкинуть мысль  она там соскучится', 'блондинки']\n",
            "чорний гумор: -290.9046260210699 ; про блондинок: -293.53712294140917\n",
            "Визначена категорія: чорний гумор. Правильна категорія: про блондинок\n",
            "Правильних результатів: 20\n",
            "Точність: 50.0 % \n"
          ],
          "name": "stdout"
        },
        {
          "output_type": "execute_result",
          "data": {
            "text/plain": [
              "50.0"
            ]
          },
          "metadata": {
            "tags": []
          },
          "execution_count": 7
        }
      ]
    },
    {
      "cell_type": "markdown",
      "metadata": {
        "id": "iTrc3VHri6a6"
      },
      "source": [
        "### Гістограми частот найбільш вживаних слів"
      ]
    },
    {
      "cell_type": "code",
      "metadata": {
        "id": "8ZkIVQJDX9ie"
      },
      "source": [
        "def histogram(res: dict, title):\n",
        "      plt.xticks(rotation='vertical') \n",
        "      plt.title(title)\n",
        "      plt.bar(res.keys(), res.values(), color='r', label = \"Real distribution\")\n",
        "      plt.show()\n",
        "\n",
        "def class_histograms(array, class_name):\n",
        "    class_arr = class_array(array, class_name)\n",
        "    with_stop = get_words_array(class_arr, False)\n",
        "    without_stop = get_words_array(class_arr, True)\n",
        "    unique_with_stop = unique_words(with_stop)\n",
        "    unique_without_stop = unique_words(without_stop)\n",
        "    with_stop_dict = collections.OrderedDict(sorted(unique_with_stop.items(), key=lambda x: x[1], reverse=True)[:10])\n",
        "    histogram(with_stop_dict, '10 найбільш часто вживаних слів (зі стоп-словами)')\n",
        "    without_stop_dict = collections.OrderedDict(sorted(unique_without_stop.items(), key=lambda x: x[1], reverse=True)[:10])\n",
        "    histogram(without_stop_dict, '10 найбільш часто вживаних слів (без стоп-слів)')"
      ],
      "execution_count": 8,
      "outputs": []
    },
    {
      "cell_type": "markdown",
      "metadata": {
        "id": "AmpnCa8skQvA"
      },
      "source": [
        "#### Чорний гумор"
      ]
    },
    {
      "cell_type": "code",
      "metadata": {
        "colab": {
          "base_uri": "https://localhost:8080/",
          "height": 594
        },
        "id": "89fiHBjjkWaQ",
        "outputId": "c99ee85b-0480-452a-a4e2-e5d917c9aac0"
      },
      "source": [
        "class_histograms(read_csv('/content/drive/MyDrive/CL/lab2/train100.csv'), 'черные')"
      ],
      "execution_count": 9,
      "outputs": [
        {
          "output_type": "display_data",
          "data": {
            "image/png": "[encoded data removed]",
            "text/plain": [
              "<Figure size 432x288 with 1 Axes>"
            ]
          },
          "metadata": {
            "tags": [],
            "needs_background": "light"
          }
        },
        {
          "output_type": "display_data",
          "data": {
            "image/png": "[encoded data removed]",
            "text/plain": [
              "<Figure size 432x288 with 1 Axes>"
            ]
          },
          "metadata": {
            "tags": [],
            "needs_background": "light"
          }
        }
      ]
    },
    {
      "cell_type": "markdown",
      "metadata": {
        "id": "S8j9lqYrk4b4"
      },
      "source": [
        "#### Про блондинок"
      ]
    },
    {
      "cell_type": "code",
      "metadata": {
        "colab": {
          "base_uri": "https://localhost:8080/",
          "height": 663
        },
        "id": "6zXEqTHrya1Y",
        "outputId": "b722ff54-e605-40fc-a8d2-7eb90946cb19"
      },
      "source": [
        "class_histograms(read_csv('/content/drive/MyDrive/CL/lab2/train100.csv'), 'блондинки')"
      ],
      "execution_count": 10,
      "outputs": [
        {
          "output_type": "display_data",
          "data": {
            "image/png": "[encoded data removed]",
            "text/plain": [
              "<Figure size 432x288 with 1 Axes>"
            ]
          },
          "metadata": {
            "tags": [],
            "needs_background": "light"
          }
        },
        {
          "output_type": "display_data",
          "data": {
            "image/png": "[encoded data removed]",
            "text/plain": [
              "<Figure size 432x288 with 1 Axes>"
            ]
          },
          "metadata": {
            "tags": [],
            "needs_background": "light"
          }
        }
      ]
    }
  ]
}